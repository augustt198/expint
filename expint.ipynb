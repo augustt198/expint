{
 "cells": [
  {
   "cell_type": "code",
   "execution_count": 1,
   "metadata": {},
   "outputs": [],
   "source": [
    "using PyPlot\n",
    "using Base.MathConstants\n",
    "using QuadGK\n",
    "using BenchmarkTools\n",
    "import Polynomials"
   ]
  },
  {
   "cell_type": "markdown",
   "metadata": {},
   "source": [
    "## Real Values"
   ]
  },
  {
   "cell_type": "markdown",
   "metadata": {},
   "source": [
    "Same polynomial generation as before, but this accepts a polynomial to use as the modified approximant."
   ]
  },
  {
   "cell_type": "code",
   "execution_count": 2,
   "metadata": {},
   "outputs": [
    {
     "data": {
      "text/plain": [
       "E₁_cfpoly_approx (generic function with 2 methods)"
      ]
     },
     "execution_count": 2,
     "metadata": {},
     "output_type": "execute_result"
    }
   ],
   "source": [
    "function E₁_cfpoly_approx(n::Integer, pstart::Polynomials.Poly{T}, ::Type{T}=BigInt) where {T<:Real}\n",
    "    q = Polynomials.Poly(T[1])\n",
    "    p = pstart\n",
    "    x = Polynomials.Poly(T[0,1])\n",
    "    for i = n:-1:1\n",
    "        p, q = x*p+(1+i)*q, p # from cf = x + (1+i)/cf = x + (1+i)*q/p\n",
    "        p, q = p + i*q, p     # from cf = 1 + i/cf = 1 + i*q/p\n",
    "    end\n",
    "    # do final 1/(x + inv(cf)) = 1/(x + q/p) = p/(x*p + q)\n",
    "    return p, x*p + q\n",
    "end"
   ]
  },
  {
   "cell_type": "code",
   "execution_count": 3,
   "metadata": {},
   "outputs": [
    {
     "data": {
      "text/plain": [
       "@E₁_cf64 (macro with 1 method)"
      ]
     },
     "execution_count": 3,
     "metadata": {},
     "output_type": "execute_result"
    }
   ],
   "source": [
    "macro E₁_cf64(x, n::Integer, start)\n",
    "    pstart = Polynomials.Poly(eval(start))\n",
    "    # consider using BigFloat?\n",
    "    p, q = E₁_cfpoly_approx(n, pstart, Float64)\n",
    "    xesc = esc(x)\n",
    "    \n",
    "    num_expr =  :(@evalpoly $xesc)\n",
    "    append!(num_expr.args, Float64.(Polynomials.coeffs(p)))\n",
    "    den_expr = :(@evalpoly $xesc)\n",
    "    append!(den_expr.args, Float64.(Polynomials.coeffs(q)))\n",
    "    :( exp(-$xesc) * $num_expr / $den_expr )\n",
    "end"
   ]
  },
  {
   "cell_type": "code",
   "execution_count": 4,
   "metadata": {},
   "outputs": [
    {
     "data": {
      "text/plain": [
       "@E₁_taylor64 (macro with 1 method)"
      ]
     },
     "execution_count": 4,
     "metadata": {},
     "output_type": "execute_result"
    }
   ],
   "source": [
    "function E₁_taylor_coefficients(::Type{T}, n::Integer) where {T<:Number}\n",
    "    n < 0 && throw(ArgumentError(\"$n ≥ 0 is required\"))\n",
    "    n == 0 && return T[]\n",
    "    n == 1 && return T[-eulergamma]\n",
    "    # iteratively compute the terms in the series, starting with k=1\n",
    "    term::T = 1\n",
    "    terms = T[-eulergamma, term]\n",
    "    for k=2:n\n",
    "        term = -term * (k-1) / (k * k)\n",
    "        push!(terms, term)\n",
    "    end\n",
    "    return terms\n",
    "end\n",
    "\n",
    "# inline the Taylor expansion for a given order n, in double precision\n",
    "macro E₁_taylor64(z, n::Integer)\n",
    "    c = E₁_taylor_coefficients(Float64, n)\n",
    "    zesc = esc(z)\n",
    "    taylor = :(@evalpoly $zesc)\n",
    "    append!(taylor.args, c)\n",
    "    :( $taylor - log($zesc) )\n",
    "end"
   ]
  },
  {
   "cell_type": "markdown",
   "metadata": {},
   "source": [
    "$E_1(x)$ with specially chosen modified approximants for faster convergence"
   ]
  },
  {
   "cell_type": "code",
   "execution_count": 5,
   "metadata": {},
   "outputs": [
    {
     "data": {
      "text/plain": [
       "E₁ (generic function with 1 method)"
      ]
     },
     "execution_count": 5,
     "metadata": {},
     "output_type": "execute_result"
    }
   ],
   "source": [
    "function E₁(x::Float64)\n",
    "    x < 0 && throw(DomainError(x, \"negative argument\"))\n",
    "    if x > 2.15\n",
    "        x < 3.0   && return @E₁_cf64(x, 18, [6.267445506556548, -2.278962735947262, 0.5577231261815463, -0.05413049191473329])\n",
    "        x < 4.0   && return @E₁_cf64(x, 16, [5.114292670961982, -1.2789140459431323, 0.22066200334871455, -0.015067049382830766])\n",
    "        x < 6.1   && return @E₁_cf64(x, 14, [4.194988480897909, -0.7263593325667503, 0.08956574399359891, -0.00434973529065973])\n",
    "        x < 8.15  && return @E₁_cf64(x, 9,  [3.0362016309948228, -0.33793806630590445, 0.029410409377178114, -0.0010060498260648586])\n",
    "        x < 25.0  && return @E₁_cf64(x, 8,  [2.5382065303376895, -0.18352177433259526, 0.011141562002742184, -0.0002634921890930066])\n",
    "        x < 200.0 && return @E₁_cf64(x, 8,  [0.0, 1.0])\n",
    "        return x < 740.0 ? @E₁_cf64(x, 4, [0.0, 1.0]) : 0.0 # underflow\n",
    "    else\n",
    "        # crossover point to taylor could probably be tuned more\n",
    "        return x ≤ 0.6 ? (x ≤ 0.053 ? (x ≤ 4.4e-3 ? @E₁_taylor64(x,4) :\n",
    "                                                       @E₁_taylor64(x,8)) :\n",
    "                                       @E₁_taylor64(x,15)) :\n",
    "                          @E₁_taylor64(x,37)\n",
    "    end\n",
    "end"
   ]
  },
  {
   "cell_type": "code",
   "execution_count": 6,
   "metadata": {},
   "outputs": [
    {
     "data": {
      "text/plain": [
       "E₁_slow (generic function with 2 methods)"
      ]
     },
     "execution_count": 6,
     "metadata": {},
     "output_type": "execute_result"
    }
   ],
   "source": [
    "# for checking implementation\n",
    "function E₁_slow(z::Union{T,Complex{T}}) where {T<:AbstractFloat}\n",
    "    real(z) < 0 && error(\"real(z) < 0 not implemented\")\n",
    "    return quadgk(u -> exp(-z/u)/u, 0, 1, rtol=eps(T)*10)[1]\n",
    "end\n",
    "E₁_slow(z::Union{T,Complex{T}}) where {T<:Real} = E₁_slow(float(z))"
   ]
  },
  {
   "cell_type": "code",
   "execution_count": 7,
   "metadata": {},
   "outputs": [
    {
     "data": {
      "image/png": "[encoded data removed]",
      "text/plain": [
       "Figure(PyObject <Figure size 640x480 with 1 Axes>)"
      ]
     },
     "metadata": {},
     "output_type": "display_data"
    },
    {
     "data": {
      "text/plain": [
       "PyObject <matplotlib.lines.Line2D object at 0x14ba3f250>"
      ]
     },
     "execution_count": 7,
     "metadata": {},
     "output_type": "execute_result"
    }
   ],
   "source": [
    "samples = range(0.01, 10.0, length=1000)\n",
    "res_slow = E₁_slow.(samples)\n",
    "res_mine = E₁.(samples)\n",
    "err = @. abs(res_slow - res_mine) / res_slow\n",
    "\n",
    "semilogy(samples, err)\n",
    "axhline(1.5e-15, color=\"red\")"
   ]
  },
  {
   "cell_type": "markdown",
   "metadata": {},
   "source": [
    "## Complex Values"
   ]
  },
  {
   "cell_type": "code",
   "execution_count": 8,
   "metadata": {},
   "outputs": [],
   "source": [
    "using SIMD"
   ]
  },
  {
   "cell_type": "code",
   "execution_count": 9,
   "metadata": {},
   "outputs": [],
   "source": [
    "# pack two polynomial coefficients into SIMD vectors\n",
    "function pack_coeffs(p1::NTuple{N, T}, p2::NTuple{N, T}) where {N, T}\n",
    "    arr = Array{Vec{4, T}, 1}(undef, 0)\n",
    "    for i = 1:N\n",
    "        # the index N-2 vector of coefficients is modified so that it can also be\n",
    "        # used as the initial B vector in `evalpolydiv`, to reduce setup time\n",
    "        idxoff = (i == N-2) ? 1 : 0\n",
    "        vec = Vec{4, T}((p1[i+idxoff], p1[i], p2[i+idxoff], p2[i]))\n",
    "        push!(arr, vec)\n",
    "    end\n",
    "    return tuple(arr...)\n",
    "end;"
   ]
  },
  {
   "cell_type": "code",
   "execution_count": 10,
   "metadata": {},
   "outputs": [],
   "source": [
    "# disassembling this function with @code_native will\n",
    "# crash julia if @inline is used.\n",
    "@generated function evalpolydiv(z::Complex, poly::NTuple{N, Vec{4, T}}) where {N, T}\n",
    "    innerloop = []\n",
    "    for i = 2:N-2\n",
    "        insns = quote\n",
    "            madd = muladd(Avec, RSvec, Bvec)\n",
    "            Avec = shufflevector(madd, Val(Avec_shuffle_mask))\n",
    "            Bvec = shufflevector(madd, poly[$(N-i-1)], Val(Bvec_shuffle_mask))\n",
    "        end\n",
    "        push!(innerloop, insns)\n",
    "    end\n",
    "\n",
    "    Expr(:block,\n",
    "        quote # setup vectors\n",
    "            x, y = real(z), imag(z)\n",
    "            r = 2x\n",
    "            s = muladd(x, x, y*y)\n",
    "            # could get rid of one negation instr if LLVM used vfmaddsub\n",
    "            RSvec = Vec{4, $T}((r, -s, r, -s))\n",
    "            Avec, Bvec = poly[$N], poly[$N-2]\n",
    "            madd  = Vec{4, $T}(0)\n",
    "            Avec_shuffle_mask = (0, 0, 2, 2)\n",
    "            Bvec_shuffle_mask = (1, 5, 3, 7)\n",
    "        end,\n",
    "        innerloop...,\n",
    "        quote\n",
    "            # some common subexprs if we complex divide manually.\n",
    "            # hopefully they are eliminated, should check...\n",
    "            madd = muladd(Avec, RSvec, Bvec) # one left over from inner loop\n",
    "            a, b, c, d = madd[1], madd[2], madd[3], madd[4]\n",
    "            denom = muladd(s*c + 2*d*x, c, d*d)\n",
    "            numre = muladd(s*c, a, x*(a*d + b*c) + b*d)\n",
    "            numim = y*(a*d - b*c)\n",
    "            return Complex(numre/denom, numim/denom)\n",
    "        end\n",
    "    )\n",
    "end;"
   ]
  },
  {
   "cell_type": "code",
   "execution_count": 11,
   "metadata": {},
   "outputs": [
    {
     "data": {
      "text/plain": [
       "@E₁_cf64_simd (macro with 1 method)"
      ]
     },
     "execution_count": 11,
     "metadata": {},
     "output_type": "execute_result"
    }
   ],
   "source": [
    "macro E₁_cf64_simd(z, n::Integer)\n",
    "    p, q = E₁_cfpoly_approx(n, Polynomials.Poly(BigInt[0,1]), BigInt)\n",
    "    num_coeffs = Float64.(Polynomials.coeffs(p))\n",
    "    den_coeffs = Float64.(Polynomials.coeffs(q))\n",
    "    if length(num_coeffs) < length(den_coeffs)\n",
    "        push!(num_coeffs, 0)\n",
    "    end\n",
    "    \n",
    "    packed = pack_coeffs(tuple(num_coeffs...), tuple(den_coeffs...))\n",
    "    zesc = esc(z)\n",
    "    quote\n",
    "        exp(-$zesc) * evalpolydiv($zesc, $packed)\n",
    "    end\n",
    "end"
   ]
  },
  {
   "cell_type": "code",
   "execution_count": 12,
   "metadata": {},
   "outputs": [
    {
     "data": {
      "text/plain": [
       "E₁ (generic function with 2 methods)"
      ]
     },
     "execution_count": 12,
     "metadata": {},
     "output_type": "execute_result"
    }
   ],
   "source": [
    "function E₁(z::Complex{Float64})\n",
    "    x² = real(z)^2\n",
    "    y² = imag(z)^2\n",
    "    if x² + 0.233*y² ≥ 7.84 # use cf expansion, ≤ 30 terms\n",
    "        if (x² ≥ 546121) & (real(z) > 0) # underflow\n",
    "            return zero(z)\n",
    "        elseif x² + 0.401*y² ≥ 58.0 # ≤ 15 terms\n",
    "            if x² + 0.649*y² ≥ 540.0 # ≤ 8 terms\n",
    "                x² + y² ≥ 4e4 && return @E₁_cf64_simd(z, 4)\n",
    "                return @E₁_cf64_simd(z, 8)\n",
    "            end\n",
    "            return @E₁_cf64_simd(z, 15)\n",
    "        end\n",
    "        return @E₁_cf64_simd(z, 30)\n",
    "    else # use Taylor expansion, ≤ 37 terms\n",
    "        r² = x² + y²\n",
    "        return r² ≤ 0.36 ? (r² ≤ 2.8e-3 ? (r² ≤ 2e-7 ? @E₁_taylor64(z,4) :\n",
    "                                                       @E₁_taylor64(z,8)) :\n",
    "                                         @E₁_taylor64(z,15)) :\n",
    "                          @E₁_taylor64(z,37)\n",
    "    end\n",
    "end"
   ]
  },
  {
   "cell_type": "code",
   "execution_count": 13,
   "metadata": {},
   "outputs": [
    {
     "data": {
      "image/png": "[encoded data removed]",
      "text/plain": [
       "Figure(PyObject <Figure size 640x480 with 1 Axes>)"
      ]
     },
     "metadata": {},
     "output_type": "display_data"
    },
    {
     "data": {
      "text/plain": [
       "PyObject <matplotlib.lines.Line2D object at 0x159620710>"
      ]
     },
     "execution_count": 13,
     "metadata": {},
     "output_type": "execute_result"
    }
   ],
   "source": [
    "samples = [x + x*im for x in range(0.01, 10.0, length=1000)]\n",
    "res_slow = E₁_slow.(samples)\n",
    "res_mine = E₁.(samples)\n",
    "err = @. abs(res_slow - res_mine) / abs(res_slow)\n",
    "\n",
    "semilogy(samples, err)\n",
    "axhline(1.5e-15, color=\"red\")"
   ]
  },
  {
   "cell_type": "code",
   "execution_count": 16,
   "metadata": {},
   "outputs": [
    {
     "data": {
      "text/plain": [
       "BenchmarkTools.Trial: \n",
       "  memory estimate:  0 bytes\n",
       "  allocs estimate:  0\n",
       "  --------------\n",
       "  minimum time:     65.779 ns (0.00% GC)\n",
       "  median time:      70.489 ns (0.00% GC)\n",
       "  mean time:        75.852 ns (0.00% GC)\n",
       "  maximum time:     270.605 ns (0.00% GC)\n",
       "  --------------\n",
       "  samples:          67509\n",
       "  evals/sample:     964"
      ]
     },
     "execution_count": 16,
     "metadata": {},
     "output_type": "execute_result"
    }
   ],
   "source": [
    "Z=3.5+3.5im\n",
    "@benchmark E₁($Z) samples=100_000"
   ]
  },
  {
   "cell_type": "code",
   "execution_count": 17,
   "metadata": {},
   "outputs": [
    {
     "data": {
      "text/plain": [
       "BenchmarkTools.Trial: \n",
       "  memory estimate:  0 bytes\n",
       "  allocs estimate:  0\n",
       "  --------------\n",
       "  minimum time:     16.931 ns (0.00% GC)\n",
       "  median time:      17.419 ns (0.00% GC)\n",
       "  mean time:        18.740 ns (0.00% GC)\n",
       "  maximum time:     123.986 ns (0.00% GC)\n",
       "  --------------\n",
       "  samples:          100100\n",
       "  evals/sample:     996"
      ]
     },
     "execution_count": 17,
     "metadata": {},
     "output_type": "execute_result"
    }
   ],
   "source": [
    "Z=3.5\n",
    "@benchmark E₁($Z) samples=100_100"
   ]
  },
  {
   "cell_type": "code",
   "execution_count": null,
   "metadata": {},
   "outputs": [],
   "source": []
  }
 ],
 "metadata": {
  "kernelspec": {
   "display_name": "Julia 1.4.0",
   "language": "julia",
   "name": "julia-1.4"
  },
  "language_info": {
   "file_extension": ".jl",
   "mimetype": "application/julia",
   "name": "julia",
   "version": "1.4.0"
  }
 },
 "nbformat": 4,
 "nbformat_minor": 2
}
